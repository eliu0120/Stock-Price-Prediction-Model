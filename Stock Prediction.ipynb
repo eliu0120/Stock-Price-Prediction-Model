{
 "cells": [
  {
   "cell_type": "code",
   "execution_count": 35,
   "id": "228a9ca8",
   "metadata": {
    "scrolled": false
   },
   "outputs": [
    {
     "data": {
      "text/html": [
       "<div>\n",
       "<style scoped>\n",
       "    .dataframe tbody tr th:only-of-type {\n",
       "        vertical-align: middle;\n",
       "    }\n",
       "\n",
       "    .dataframe tbody tr th {\n",
       "        vertical-align: top;\n",
       "    }\n",
       "\n",
       "    .dataframe thead th {\n",
       "        text-align: right;\n",
       "    }\n",
       "</style>\n",
       "<table border=\"1\" class=\"dataframe\">\n",
       "  <thead>\n",
       "    <tr style=\"text-align: right;\">\n",
       "      <th></th>\n",
       "      <th>Date</th>\n",
       "      <th>Open</th>\n",
       "      <th>High</th>\n",
       "      <th>Low</th>\n",
       "      <th>Close</th>\n",
       "      <th>Adj Close</th>\n",
       "      <th>Volume</th>\n",
       "    </tr>\n",
       "  </thead>\n",
       "  <tbody>\n",
       "    <tr>\n",
       "      <th>0</th>\n",
       "      <td>1986-03-13</td>\n",
       "      <td>0.088542</td>\n",
       "      <td>0.101563</td>\n",
       "      <td>0.088542</td>\n",
       "      <td>0.097222</td>\n",
       "      <td>0.060980</td>\n",
       "      <td>1031788800</td>\n",
       "    </tr>\n",
       "    <tr>\n",
       "      <th>1</th>\n",
       "      <td>1986-03-14</td>\n",
       "      <td>0.097222</td>\n",
       "      <td>0.102431</td>\n",
       "      <td>0.097222</td>\n",
       "      <td>0.100694</td>\n",
       "      <td>0.063158</td>\n",
       "      <td>308160000</td>\n",
       "    </tr>\n",
       "    <tr>\n",
       "      <th>2</th>\n",
       "      <td>1986-03-17</td>\n",
       "      <td>0.100694</td>\n",
       "      <td>0.103299</td>\n",
       "      <td>0.100694</td>\n",
       "      <td>0.102431</td>\n",
       "      <td>0.064247</td>\n",
       "      <td>133171200</td>\n",
       "    </tr>\n",
       "    <tr>\n",
       "      <th>3</th>\n",
       "      <td>1986-03-18</td>\n",
       "      <td>0.102431</td>\n",
       "      <td>0.103299</td>\n",
       "      <td>0.098958</td>\n",
       "      <td>0.099826</td>\n",
       "      <td>0.062613</td>\n",
       "      <td>67766400</td>\n",
       "    </tr>\n",
       "    <tr>\n",
       "      <th>4</th>\n",
       "      <td>1986-03-19</td>\n",
       "      <td>0.099826</td>\n",
       "      <td>0.100694</td>\n",
       "      <td>0.097222</td>\n",
       "      <td>0.098090</td>\n",
       "      <td>0.061524</td>\n",
       "      <td>47894400</td>\n",
       "    </tr>\n",
       "    <tr>\n",
       "      <th>...</th>\n",
       "      <td>...</td>\n",
       "      <td>...</td>\n",
       "      <td>...</td>\n",
       "      <td>...</td>\n",
       "      <td>...</td>\n",
       "      <td>...</td>\n",
       "      <td>...</td>\n",
       "    </tr>\n",
       "    <tr>\n",
       "      <th>9190</th>\n",
       "      <td>2022-08-29</td>\n",
       "      <td>265.850006</td>\n",
       "      <td>267.399994</td>\n",
       "      <td>263.850006</td>\n",
       "      <td>265.230011</td>\n",
       "      <td>265.230011</td>\n",
       "      <td>20338500</td>\n",
       "    </tr>\n",
       "    <tr>\n",
       "      <th>9191</th>\n",
       "      <td>2022-08-30</td>\n",
       "      <td>266.670013</td>\n",
       "      <td>267.049988</td>\n",
       "      <td>260.660004</td>\n",
       "      <td>262.970001</td>\n",
       "      <td>262.970001</td>\n",
       "      <td>22767100</td>\n",
       "    </tr>\n",
       "    <tr>\n",
       "      <th>9192</th>\n",
       "      <td>2022-08-31</td>\n",
       "      <td>265.390015</td>\n",
       "      <td>267.109985</td>\n",
       "      <td>261.329987</td>\n",
       "      <td>261.470001</td>\n",
       "      <td>261.470001</td>\n",
       "      <td>24791800</td>\n",
       "    </tr>\n",
       "    <tr>\n",
       "      <th>9193</th>\n",
       "      <td>2022-09-01</td>\n",
       "      <td>258.869995</td>\n",
       "      <td>260.890015</td>\n",
       "      <td>255.410004</td>\n",
       "      <td>260.399994</td>\n",
       "      <td>260.399994</td>\n",
       "      <td>23263400</td>\n",
       "    </tr>\n",
       "    <tr>\n",
       "      <th>9194</th>\n",
       "      <td>2022-09-02</td>\n",
       "      <td>261.700012</td>\n",
       "      <td>264.739990</td>\n",
       "      <td>254.470001</td>\n",
       "      <td>256.059998</td>\n",
       "      <td>256.059998</td>\n",
       "      <td>22841600</td>\n",
       "    </tr>\n",
       "  </tbody>\n",
       "</table>\n",
       "<p>9195 rows × 7 columns</p>\n",
       "</div>"
      ],
      "text/plain": [
       "            Date        Open        High         Low       Close   Adj Close  \\\n",
       "0     1986-03-13    0.088542    0.101563    0.088542    0.097222    0.060980   \n",
       "1     1986-03-14    0.097222    0.102431    0.097222    0.100694    0.063158   \n",
       "2     1986-03-17    0.100694    0.103299    0.100694    0.102431    0.064247   \n",
       "3     1986-03-18    0.102431    0.103299    0.098958    0.099826    0.062613   \n",
       "4     1986-03-19    0.099826    0.100694    0.097222    0.098090    0.061524   \n",
       "...          ...         ...         ...         ...         ...         ...   \n",
       "9190  2022-08-29  265.850006  267.399994  263.850006  265.230011  265.230011   \n",
       "9191  2022-08-30  266.670013  267.049988  260.660004  262.970001  262.970001   \n",
       "9192  2022-08-31  265.390015  267.109985  261.329987  261.470001  261.470001   \n",
       "9193  2022-09-01  258.869995  260.890015  255.410004  260.399994  260.399994   \n",
       "9194  2022-09-02  261.700012  264.739990  254.470001  256.059998  256.059998   \n",
       "\n",
       "          Volume  \n",
       "0     1031788800  \n",
       "1      308160000  \n",
       "2      133171200  \n",
       "3       67766400  \n",
       "4       47894400  \n",
       "...          ...  \n",
       "9190    20338500  \n",
       "9191    22767100  \n",
       "9192    24791800  \n",
       "9193    23263400  \n",
       "9194    22841600  \n",
       "\n",
       "[9195 rows x 7 columns]"
      ]
     },
     "execution_count": 35,
     "metadata": {},
     "output_type": "execute_result"
    }
   ],
   "source": [
    "import pandas as pd\n",
    "\n",
    "df = pd.read_csv('MSFT.csv')\n",
    "df"
   ]
  },
  {
   "cell_type": "code",
   "execution_count": 36,
   "id": "ef3110bb",
   "metadata": {},
   "outputs": [
    {
     "data": {
      "text/html": [
       "<div>\n",
       "<style scoped>\n",
       "    .dataframe tbody tr th:only-of-type {\n",
       "        vertical-align: middle;\n",
       "    }\n",
       "\n",
       "    .dataframe tbody tr th {\n",
       "        vertical-align: top;\n",
       "    }\n",
       "\n",
       "    .dataframe thead th {\n",
       "        text-align: right;\n",
       "    }\n",
       "</style>\n",
       "<table border=\"1\" class=\"dataframe\">\n",
       "  <thead>\n",
       "    <tr style=\"text-align: right;\">\n",
       "      <th></th>\n",
       "      <th>Date</th>\n",
       "      <th>Close</th>\n",
       "    </tr>\n",
       "  </thead>\n",
       "  <tbody>\n",
       "    <tr>\n",
       "      <th>0</th>\n",
       "      <td>1986-03-13</td>\n",
       "      <td>0.097222</td>\n",
       "    </tr>\n",
       "    <tr>\n",
       "      <th>1</th>\n",
       "      <td>1986-03-14</td>\n",
       "      <td>0.100694</td>\n",
       "    </tr>\n",
       "    <tr>\n",
       "      <th>2</th>\n",
       "      <td>1986-03-17</td>\n",
       "      <td>0.102431</td>\n",
       "    </tr>\n",
       "    <tr>\n",
       "      <th>3</th>\n",
       "      <td>1986-03-18</td>\n",
       "      <td>0.099826</td>\n",
       "    </tr>\n",
       "    <tr>\n",
       "      <th>4</th>\n",
       "      <td>1986-03-19</td>\n",
       "      <td>0.098090</td>\n",
       "    </tr>\n",
       "    <tr>\n",
       "      <th>...</th>\n",
       "      <td>...</td>\n",
       "      <td>...</td>\n",
       "    </tr>\n",
       "    <tr>\n",
       "      <th>9190</th>\n",
       "      <td>2022-08-29</td>\n",
       "      <td>265.230011</td>\n",
       "    </tr>\n",
       "    <tr>\n",
       "      <th>9191</th>\n",
       "      <td>2022-08-30</td>\n",
       "      <td>262.970001</td>\n",
       "    </tr>\n",
       "    <tr>\n",
       "      <th>9192</th>\n",
       "      <td>2022-08-31</td>\n",
       "      <td>261.470001</td>\n",
       "    </tr>\n",
       "    <tr>\n",
       "      <th>9193</th>\n",
       "      <td>2022-09-01</td>\n",
       "      <td>260.399994</td>\n",
       "    </tr>\n",
       "    <tr>\n",
       "      <th>9194</th>\n",
       "      <td>2022-09-02</td>\n",
       "      <td>256.059998</td>\n",
       "    </tr>\n",
       "  </tbody>\n",
       "</table>\n",
       "<p>9195 rows × 2 columns</p>\n",
       "</div>"
      ],
      "text/plain": [
       "            Date       Close\n",
       "0     1986-03-13    0.097222\n",
       "1     1986-03-14    0.100694\n",
       "2     1986-03-17    0.102431\n",
       "3     1986-03-18    0.099826\n",
       "4     1986-03-19    0.098090\n",
       "...          ...         ...\n",
       "9190  2022-08-29  265.230011\n",
       "9191  2022-08-30  262.970001\n",
       "9192  2022-08-31  261.470001\n",
       "9193  2022-09-01  260.399994\n",
       "9194  2022-09-02  256.059998\n",
       "\n",
       "[9195 rows x 2 columns]"
      ]
     },
     "execution_count": 36,
     "metadata": {},
     "output_type": "execute_result"
    }
   ],
   "source": [
    "df = df[['Date', 'Close']]\n",
    "df"
   ]
  },
  {
   "cell_type": "code",
   "execution_count": 37,
   "id": "8ffcf96b",
   "metadata": {},
   "outputs": [
    {
     "data": {
      "text/plain": [
       "0       1986-03-13\n",
       "1       1986-03-14\n",
       "2       1986-03-17\n",
       "3       1986-03-18\n",
       "4       1986-03-19\n",
       "           ...    \n",
       "9190    2022-08-29\n",
       "9191    2022-08-30\n",
       "9192    2022-08-31\n",
       "9193    2022-09-01\n",
       "9194    2022-09-02\n",
       "Name: Date, Length: 9195, dtype: object"
      ]
     },
     "execution_count": 37,
     "metadata": {},
     "output_type": "execute_result"
    }
   ],
   "source": [
    "df['Date']"
   ]
  },
  {
   "cell_type": "code",
   "execution_count": 38,
   "id": "748d83d6",
   "metadata": {},
   "outputs": [
    {
     "data": {
      "text/plain": [
       "datetime.datetime(1986, 3, 19, 0, 0)"
      ]
     },
     "execution_count": 38,
     "metadata": {},
     "output_type": "execute_result"
    }
   ],
   "source": [
    "import datetime\n",
    "\n",
    "def str_to_datetime(s):\n",
    "    split = s.split('-')\n",
    "    year, month, day = int(split[0]), int(split[1]), int(split[2])\n",
    "    return datetime.datetime(year = year, month = month, day = day)\n",
    "\n",
    "datetime_object = str_to_datetime('1986-03-19')\n",
    "datetime_object"
   ]
  },
  {
   "cell_type": "code",
   "execution_count": 39,
   "id": "14f4fc33",
   "metadata": {},
   "outputs": [
    {
     "name": "stderr",
     "output_type": "stream",
     "text": [
      "C:\\Users\\eliu0\\AppData\\Local\\Temp/ipykernel_41408/2565755782.py:1: SettingWithCopyWarning: \n",
      "A value is trying to be set on a copy of a slice from a DataFrame.\n",
      "Try using .loc[row_indexer,col_indexer] = value instead\n",
      "\n",
      "See the caveats in the documentation: https://pandas.pydata.org/pandas-docs/stable/user_guide/indexing.html#returning-a-view-versus-a-copy\n",
      "  df['Date'] = df['Date'].apply(str_to_datetime)\n"
     ]
    },
    {
     "data": {
      "text/plain": [
       "0      1986-03-13\n",
       "1      1986-03-14\n",
       "2      1986-03-17\n",
       "3      1986-03-18\n",
       "4      1986-03-19\n",
       "          ...    \n",
       "9190   2022-08-29\n",
       "9191   2022-08-30\n",
       "9192   2022-08-31\n",
       "9193   2022-09-01\n",
       "9194   2022-09-02\n",
       "Name: Date, Length: 9195, dtype: datetime64[ns]"
      ]
     },
     "execution_count": 39,
     "metadata": {},
     "output_type": "execute_result"
    }
   ],
   "source": [
    "df['Date'] = df['Date'].apply(str_to_datetime)\n",
    "df['Date']"
   ]
  },
  {
   "cell_type": "code",
   "execution_count": 40,
   "id": "b409b6b7",
   "metadata": {},
   "outputs": [
    {
     "data": {
      "text/html": [
       "<div>\n",
       "<style scoped>\n",
       "    .dataframe tbody tr th:only-of-type {\n",
       "        vertical-align: middle;\n",
       "    }\n",
       "\n",
       "    .dataframe tbody tr th {\n",
       "        vertical-align: top;\n",
       "    }\n",
       "\n",
       "    .dataframe thead th {\n",
       "        text-align: right;\n",
       "    }\n",
       "</style>\n",
       "<table border=\"1\" class=\"dataframe\">\n",
       "  <thead>\n",
       "    <tr style=\"text-align: right;\">\n",
       "      <th></th>\n",
       "      <th>Close</th>\n",
       "    </tr>\n",
       "    <tr>\n",
       "      <th>Date</th>\n",
       "      <th></th>\n",
       "    </tr>\n",
       "  </thead>\n",
       "  <tbody>\n",
       "    <tr>\n",
       "      <th>1986-03-13</th>\n",
       "      <td>0.097222</td>\n",
       "    </tr>\n",
       "    <tr>\n",
       "      <th>1986-03-14</th>\n",
       "      <td>0.100694</td>\n",
       "    </tr>\n",
       "    <tr>\n",
       "      <th>1986-03-17</th>\n",
       "      <td>0.102431</td>\n",
       "    </tr>\n",
       "    <tr>\n",
       "      <th>1986-03-18</th>\n",
       "      <td>0.099826</td>\n",
       "    </tr>\n",
       "    <tr>\n",
       "      <th>1986-03-19</th>\n",
       "      <td>0.098090</td>\n",
       "    </tr>\n",
       "    <tr>\n",
       "      <th>...</th>\n",
       "      <td>...</td>\n",
       "    </tr>\n",
       "    <tr>\n",
       "      <th>2022-08-29</th>\n",
       "      <td>265.230011</td>\n",
       "    </tr>\n",
       "    <tr>\n",
       "      <th>2022-08-30</th>\n",
       "      <td>262.970001</td>\n",
       "    </tr>\n",
       "    <tr>\n",
       "      <th>2022-08-31</th>\n",
       "      <td>261.470001</td>\n",
       "    </tr>\n",
       "    <tr>\n",
       "      <th>2022-09-01</th>\n",
       "      <td>260.399994</td>\n",
       "    </tr>\n",
       "    <tr>\n",
       "      <th>2022-09-02</th>\n",
       "      <td>256.059998</td>\n",
       "    </tr>\n",
       "  </tbody>\n",
       "</table>\n",
       "<p>9195 rows × 1 columns</p>\n",
       "</div>"
      ],
      "text/plain": [
       "                 Close\n",
       "Date                  \n",
       "1986-03-13    0.097222\n",
       "1986-03-14    0.100694\n",
       "1986-03-17    0.102431\n",
       "1986-03-18    0.099826\n",
       "1986-03-19    0.098090\n",
       "...                ...\n",
       "2022-08-29  265.230011\n",
       "2022-08-30  262.970001\n",
       "2022-08-31  261.470001\n",
       "2022-09-01  260.399994\n",
       "2022-09-02  256.059998\n",
       "\n",
       "[9195 rows x 1 columns]"
      ]
     },
     "execution_count": 40,
     "metadata": {},
     "output_type": "execute_result"
    }
   ],
   "source": [
    "df.index = df.pop('Date')\n",
    "df"
   ]
  },
  {
   "cell_type": "code",
   "execution_count": 41,
   "id": "8fdf861c",
   "metadata": {},
   "outputs": [
    {
     "data": {
      "text/plain": [
       "[<matplotlib.lines.Line2D at 0x1f3b32b5400>]"
      ]
     },
     "execution_count": 41,
     "metadata": {},
     "output_type": "execute_result"
    },
    {
     "data": {
      "image/png": "[encoded data removed]",
      "text/plain": [
       "<Figure size 432x288 with 1 Axes>"
      ]
     },
     "metadata": {
      "needs_background": "light"
     },
     "output_type": "display_data"
    }
   ],
   "source": [
    "import matplotlib.pyplot as plt\n",
    "\n",
    "plt.plot(df.index, df['Close'])"
   ]
  },
  {
   "cell_type": "code",
   "execution_count": 44,
   "id": "549da254",
   "metadata": {},
   "outputs": [
    {
     "data": {
      "text/html": [
       "<div>\n",
       "<style scoped>\n",
       "    .dataframe tbody tr th:only-of-type {\n",
       "        vertical-align: middle;\n",
       "    }\n",
       "\n",
       "    .dataframe tbody tr th {\n",
       "        vertical-align: top;\n",
       "    }\n",
       "\n",
       "    .dataframe thead th {\n",
       "        text-align: right;\n",
       "    }\n",
       "</style>\n",
       "<table border=\"1\" class=\"dataframe\">\n",
       "  <thead>\n",
       "    <tr style=\"text-align: right;\">\n",
       "      <th></th>\n",
       "      <th>Target Date</th>\n",
       "      <th>Target-3</th>\n",
       "      <th>Target-2</th>\n",
       "      <th>Target-1</th>\n",
       "      <th>Target</th>\n",
       "    </tr>\n",
       "  </thead>\n",
       "  <tbody>\n",
       "    <tr>\n",
       "      <th>0</th>\n",
       "      <td>1986-03-18</td>\n",
       "      <td>0.097222</td>\n",
       "      <td>0.100694</td>\n",
       "      <td>0.102431</td>\n",
       "      <td>0.099826</td>\n",
       "    </tr>\n",
       "    <tr>\n",
       "      <th>1</th>\n",
       "      <td>1986-03-19</td>\n",
       "      <td>0.100694</td>\n",
       "      <td>0.102431</td>\n",
       "      <td>0.099826</td>\n",
       "      <td>0.098090</td>\n",
       "    </tr>\n",
       "    <tr>\n",
       "      <th>2</th>\n",
       "      <td>1986-03-20</td>\n",
       "      <td>0.102431</td>\n",
       "      <td>0.099826</td>\n",
       "      <td>0.098090</td>\n",
       "      <td>0.095486</td>\n",
       "    </tr>\n",
       "    <tr>\n",
       "      <th>3</th>\n",
       "      <td>1986-03-21</td>\n",
       "      <td>0.099826</td>\n",
       "      <td>0.098090</td>\n",
       "      <td>0.095486</td>\n",
       "      <td>0.092882</td>\n",
       "    </tr>\n",
       "    <tr>\n",
       "      <th>4</th>\n",
       "      <td>1986-03-24</td>\n",
       "      <td>0.098090</td>\n",
       "      <td>0.095486</td>\n",
       "      <td>0.092882</td>\n",
       "      <td>0.090278</td>\n",
       "    </tr>\n",
       "    <tr>\n",
       "      <th>...</th>\n",
       "      <td>...</td>\n",
       "      <td>...</td>\n",
       "      <td>...</td>\n",
       "      <td>...</td>\n",
       "      <td>...</td>\n",
       "    </tr>\n",
       "    <tr>\n",
       "      <th>9074</th>\n",
       "      <td>2022-03-17</td>\n",
       "      <td>276.440002</td>\n",
       "      <td>287.149994</td>\n",
       "      <td>294.390015</td>\n",
       "      <td>295.220001</td>\n",
       "    </tr>\n",
       "    <tr>\n",
       "      <th>9075</th>\n",
       "      <td>2022-03-18</td>\n",
       "      <td>287.149994</td>\n",
       "      <td>294.390015</td>\n",
       "      <td>295.220001</td>\n",
       "      <td>300.429993</td>\n",
       "    </tr>\n",
       "    <tr>\n",
       "      <th>9076</th>\n",
       "      <td>2022-03-21</td>\n",
       "      <td>294.390015</td>\n",
       "      <td>295.220001</td>\n",
       "      <td>300.429993</td>\n",
       "      <td>299.160004</td>\n",
       "    </tr>\n",
       "    <tr>\n",
       "      <th>9077</th>\n",
       "      <td>2022-03-22</td>\n",
       "      <td>295.220001</td>\n",
       "      <td>300.429993</td>\n",
       "      <td>299.160004</td>\n",
       "      <td>304.059998</td>\n",
       "    </tr>\n",
       "    <tr>\n",
       "      <th>9078</th>\n",
       "      <td>2022-03-23</td>\n",
       "      <td>300.429993</td>\n",
       "      <td>299.160004</td>\n",
       "      <td>304.059998</td>\n",
       "      <td>299.489990</td>\n",
       "    </tr>\n",
       "  </tbody>\n",
       "</table>\n",
       "<p>9079 rows × 5 columns</p>\n",
       "</div>"
      ],
      "text/plain": [
       "     Target Date    Target-3    Target-2    Target-1      Target\n",
       "0     1986-03-18    0.097222    0.100694    0.102431    0.099826\n",
       "1     1986-03-19    0.100694    0.102431    0.099826    0.098090\n",
       "2     1986-03-20    0.102431    0.099826    0.098090    0.095486\n",
       "3     1986-03-21    0.099826    0.098090    0.095486    0.092882\n",
       "4     1986-03-24    0.098090    0.095486    0.092882    0.090278\n",
       "...          ...         ...         ...         ...         ...\n",
       "9074  2022-03-17  276.440002  287.149994  294.390015  295.220001\n",
       "9075  2022-03-18  287.149994  294.390015  295.220001  300.429993\n",
       "9076  2022-03-21  294.390015  295.220001  300.429993  299.160004\n",
       "9077  2022-03-22  295.220001  300.429993  299.160004  304.059998\n",
       "9078  2022-03-23  300.429993  299.160004  304.059998  299.489990\n",
       "\n",
       "[9079 rows x 5 columns]"
      ]
     },
     "execution_count": 44,
     "metadata": {},
     "output_type": "execute_result"
    }
   ],
   "source": [
    "import numpy as np\n",
    "\n",
    "def df_to_windowed_df(dataframe, first_date_str, last_date_str, n=3):\n",
    "  first_date = str_to_datetime(first_date_str)\n",
    "  last_date  = str_to_datetime(last_date_str)\n",
    "\n",
    "  target_date = first_date\n",
    "  \n",
    "  dates = []\n",
    "  X, Y = [], []\n",
    "\n",
    "  last_time = False\n",
    "  while True:\n",
    "    df_subset = dataframe.loc[:target_date].tail(n+1)\n",
    "    \n",
    "    if len(df_subset) != n+1:\n",
    "      print(f'Error: Window of size {n} is too large for date {target_date}')\n",
    "      return\n",
    "\n",
    "    values = df_subset['Close'].to_numpy()\n",
    "    x, y = values[:-1], values[-1]\n",
    "\n",
    "    dates.append(target_date)\n",
    "    X.append(x)\n",
    "    Y.append(y)\n",
    "\n",
    "    next_week = dataframe.loc[target_date:target_date+datetime.timedelta(days=7)]\n",
    "    next_datetime_str = str(next_week.head(2).tail(1).index.values[0])\n",
    "    next_date_str = next_datetime_str.split('T')[0]\n",
    "    year_month_day = next_date_str.split('-')\n",
    "    year, month, day = year_month_day\n",
    "    next_date = datetime.datetime(day=int(day), month=int(month), year=int(year))\n",
    "    \n",
    "    if last_time:\n",
    "      break\n",
    "    \n",
    "    target_date = next_date\n",
    "\n",
    "    if target_date == last_date:\n",
    "      last_time = True\n",
    "    \n",
    "  ret_df = pd.DataFrame({})\n",
    "  ret_df['Target Date'] = dates\n",
    "  \n",
    "  X = np.array(X)\n",
    "  for i in range(0, n):\n",
    "    X[:, i]\n",
    "    ret_df[f'Target-{n-i}'] = X[:, i]\n",
    "  \n",
    "  ret_df['Target'] = Y\n",
    "\n",
    "  return ret_df\n",
    "\n",
    "windowed_df = df_to_windowed_df(df, \n",
    "                                '1986-03-18', \n",
    "                                '2022-03-23', \n",
    "                                n=3)\n",
    "windowed_df"
   ]
  },
  {
   "cell_type": "code",
   "execution_count": 45,
   "id": "b8b21cc0",
   "metadata": {},
   "outputs": [
    {
     "data": {
      "text/plain": [
       "((9079,), (9079, 3, 1), (9079,))"
      ]
     },
     "execution_count": 45,
     "metadata": {},
     "output_type": "execute_result"
    }
   ],
   "source": [
    "def windowed_df_to_date_X_y(windowed_dataframe):\n",
    "    df_as_np = windowed_dataframe.to_numpy()\n",
    "    \n",
    "    dates = df_as_np[:, 0]\n",
    "    \n",
    "    middle_matrix = df_as_np[:, 1:-1]\n",
    "    X = middle_matrix.reshape((len(dates), middle_matrix.shape[1], 1))\n",
    "    \n",
    "    Y = df_as_np[:, -1]\n",
    "    \n",
    "    return dates, X.astype(np.float32), Y.astype(np.float32)\n",
    "\n",
    "dates, X, y = windowed_df_to_date_X_y(windowed_df)\n",
    "\n",
    "dates.shape, X.shape, y.shape"
   ]
  },
  {
   "cell_type": "code",
   "execution_count": 46,
   "id": "2c49132f",
   "metadata": {},
   "outputs": [
    {
     "data": {
      "text/plain": [
       "<matplotlib.legend.Legend at 0x1f3b341a2b0>"
      ]
     },
     "execution_count": 46,
     "metadata": {},
     "output_type": "execute_result"
    },
    {
     "data": {
      "image/png": "[encoded data removed]",
      "text/plain": [
       "<Figure size 432x288 with 1 Axes>"
      ]
     },
     "metadata": {
      "needs_background": "light"
     },
     "output_type": "display_data"
    }
   ],
   "source": [
    "q_80 = int(len(dates) * 0.8)\n",
    "q_90 = int(len(dates) * 0.9)\n",
    "\n",
    "dates_train, X_train, y_train = dates[:q_80], X[:q_80], y[:q_80]\n",
    "dates_val, X_val, y_val = dates[q_80:q_90], X[q_80:q_90], y[q_80:q_90]\n",
    "dates_test, X_test, y_test = dates[q_90:], X[q_90:], y[q_90:]\n",
    "\n",
    "plt.plot(dates_train, y_train)\n",
    "plt.plot(dates_val, y_val)\n",
    "plt.plot(dates_test, y_test)\n",
    "plt.legend(['Train', 'Validation', 'Test'])"
   ]
  },
  {
   "cell_type": "code",
   "execution_count": 49,
   "id": "4b44b77c",
   "metadata": {},
   "outputs": [
    {
     "name": "stdout",
     "output_type": "stream",
     "text": [
      "Epoch 1/100\n",
      "227/227 [==============================] - 3s 6ms/step - loss: 125.9317 - mean_absolute_error: 5.3463 - val_loss: 583.2389 - val_mean_absolute_error: 17.0430\n",
      "Epoch 2/100\n",
      "227/227 [==============================] - 1s 3ms/step - loss: 0.4391 - mean_absolute_error: 0.3438 - val_loss: 441.9854 - val_mean_absolute_error: 13.7399\n",
      "Epoch 3/100\n",
      "227/227 [==============================] - 1s 4ms/step - loss: 0.3587 - mean_absolute_error: 0.3393 - val_loss: 384.6114 - val_mean_absolute_error: 12.4123\n",
      "Epoch 4/100\n",
      "227/227 [==============================] - 1s 5ms/step - loss: 0.3282 - mean_absolute_error: 0.3302 - val_loss: 358.7677 - val_mean_absolute_error: 12.2602\n",
      "Epoch 5/100\n",
      "227/227 [==============================] - 1s 3ms/step - loss: 0.3120 - mean_absolute_error: 0.3224 - val_loss: 335.4405 - val_mean_absolute_error: 11.1518\n",
      "Epoch 6/100\n",
      "227/227 [==============================] - 1s 3ms/step - loss: 0.3062 - mean_absolute_error: 0.3207 - val_loss: 319.7450 - val_mean_absolute_error: 10.7997\n",
      "Epoch 7/100\n",
      "227/227 [==============================] - 1s 3ms/step - loss: 0.3144 - mean_absolute_error: 0.3249 - val_loss: 311.4293 - val_mean_absolute_error: 10.6233\n",
      "Epoch 8/100\n",
      "227/227 [==============================] - 1s 3ms/step - loss: 0.3071 - mean_absolute_error: 0.3263 - val_loss: 304.3208 - val_mean_absolute_error: 10.5257\n",
      "Epoch 9/100\n",
      "227/227 [==============================] - 1s 3ms/step - loss: 0.3128 - mean_absolute_error: 0.3241 - val_loss: 292.6729 - val_mean_absolute_error: 10.2253\n",
      "Epoch 10/100\n",
      "227/227 [==============================] - 1s 4ms/step - loss: 0.3364 - mean_absolute_error: 0.3451 - val_loss: 292.4059 - val_mean_absolute_error: 10.2233\n",
      "Epoch 11/100\n",
      "227/227 [==============================] - 1s 4ms/step - loss: 0.3222 - mean_absolute_error: 0.3314 - val_loss: 284.3317 - val_mean_absolute_error: 9.9359\n",
      "Epoch 12/100\n",
      "227/227 [==============================] - 1s 4ms/step - loss: 0.2952 - mean_absolute_error: 0.3178 - val_loss: 289.2798 - val_mean_absolute_error: 10.7284\n",
      "Epoch 13/100\n",
      "227/227 [==============================] - 1s 4ms/step - loss: 0.3224 - mean_absolute_error: 0.3369 - val_loss: 281.4253 - val_mean_absolute_error: 10.2221\n",
      "Epoch 14/100\n",
      "227/227 [==============================] - 1s 3ms/step - loss: 0.3186 - mean_absolute_error: 0.3325 - val_loss: 273.6398 - val_mean_absolute_error: 9.6894\n",
      "Epoch 15/100\n",
      "227/227 [==============================] - 1s 3ms/step - loss: 0.3036 - mean_absolute_error: 0.3216 - val_loss: 265.9839 - val_mean_absolute_error: 9.5511\n",
      "Epoch 16/100\n",
      "227/227 [==============================] - 1s 3ms/step - loss: 0.2984 - mean_absolute_error: 0.3158 - val_loss: 269.8191 - val_mean_absolute_error: 9.5991\n",
      "Epoch 17/100\n",
      "227/227 [==============================] - 1s 3ms/step - loss: 0.3065 - mean_absolute_error: 0.3226 - val_loss: 266.9364 - val_mean_absolute_error: 9.5706\n",
      "Epoch 18/100\n",
      "227/227 [==============================] - 1s 4ms/step - loss: 0.2910 - mean_absolute_error: 0.3140 - val_loss: 264.9270 - val_mean_absolute_error: 9.4972\n",
      "Epoch 19/100\n",
      "227/227 [==============================] - 1s 4ms/step - loss: 0.2917 - mean_absolute_error: 0.3129 - val_loss: 270.5317 - val_mean_absolute_error: 9.9028\n",
      "Epoch 20/100\n",
      "227/227 [==============================] - 1s 4ms/step - loss: 0.3031 - mean_absolute_error: 0.3206 - val_loss: 277.4860 - val_mean_absolute_error: 10.0491\n",
      "Epoch 21/100\n",
      "227/227 [==============================] - 1s 3ms/step - loss: 0.3034 - mean_absolute_error: 0.3255 - val_loss: 263.5732 - val_mean_absolute_error: 9.4547\n",
      "Epoch 22/100\n",
      "227/227 [==============================] - 1s 3ms/step - loss: 0.2958 - mean_absolute_error: 0.3179 - val_loss: 259.3003 - val_mean_absolute_error: 9.2933\n",
      "Epoch 23/100\n",
      "227/227 [==============================] - 1s 4ms/step - loss: 0.3339 - mean_absolute_error: 0.3470 - val_loss: 262.6327 - val_mean_absolute_error: 9.3678\n",
      "Epoch 24/100\n",
      "227/227 [==============================] - 1s 4ms/step - loss: 0.3082 - mean_absolute_error: 0.3267 - val_loss: 272.6650 - val_mean_absolute_error: 9.9625\n",
      "Epoch 25/100\n",
      "227/227 [==============================] - 1s 3ms/step - loss: 0.2957 - mean_absolute_error: 0.3114 - val_loss: 269.9608 - val_mean_absolute_error: 9.6352\n",
      "Epoch 26/100\n",
      "227/227 [==============================] - 1s 3ms/step - loss: 0.3083 - mean_absolute_error: 0.3237 - val_loss: 269.1497 - val_mean_absolute_error: 9.7849\n",
      "Epoch 27/100\n",
      "227/227 [==============================] - 1s 4ms/step - loss: 0.3210 - mean_absolute_error: 0.3417 - val_loss: 270.7118 - val_mean_absolute_error: 9.6209\n",
      "Epoch 28/100\n",
      "227/227 [==============================] - 1s 3ms/step - loss: 0.3003 - mean_absolute_error: 0.3204 - val_loss: 260.2827 - val_mean_absolute_error: 9.3791\n",
      "Epoch 29/100\n",
      "227/227 [==============================] - 1s 3ms/step - loss: 0.3144 - mean_absolute_error: 0.3329 - val_loss: 260.2984 - val_mean_absolute_error: 9.4079\n",
      "Epoch 30/100\n",
      "227/227 [==============================] - 1s 4ms/step - loss: 0.2949 - mean_absolute_error: 0.3205 - val_loss: 263.3933 - val_mean_absolute_error: 9.5980\n",
      "Epoch 31/100\n",
      "227/227 [==============================] - 1s 3ms/step - loss: 0.3031 - mean_absolute_error: 0.3198 - val_loss: 259.5482 - val_mean_absolute_error: 9.3633\n",
      "Epoch 32/100\n",
      "227/227 [==============================] - 1s 5ms/step - loss: 0.2961 - mean_absolute_error: 0.3233 - val_loss: 270.8352 - val_mean_absolute_error: 9.9991\n",
      "Epoch 33/100\n",
      "227/227 [==============================] - 1s 4ms/step - loss: 0.3218 - mean_absolute_error: 0.3404 - val_loss: 262.5820 - val_mean_absolute_error: 9.5337\n",
      "Epoch 34/100\n",
      "227/227 [==============================] - 1s 4ms/step - loss: 0.2911 - mean_absolute_error: 0.3183 - val_loss: 256.0857 - val_mean_absolute_error: 9.2398\n",
      "Epoch 35/100\n",
      "227/227 [==============================] - 1s 4ms/step - loss: 0.3220 - mean_absolute_error: 0.3330 - val_loss: 269.7294 - val_mean_absolute_error: 9.5639\n",
      "Epoch 36/100\n",
      "227/227 [==============================] - 1s 4ms/step - loss: 0.3025 - mean_absolute_error: 0.3253 - val_loss: 264.2925 - val_mean_absolute_error: 9.4661\n",
      "Epoch 37/100\n",
      "227/227 [==============================] - 1s 5ms/step - loss: 0.2869 - mean_absolute_error: 0.3090 - val_loss: 255.6611 - val_mean_absolute_error: 9.1833\n",
      "Epoch 38/100\n",
      "227/227 [==============================] - 1s 3ms/step - loss: 0.3190 - mean_absolute_error: 0.3355 - val_loss: 267.0688 - val_mean_absolute_error: 9.5267\n",
      "Epoch 39/100\n",
      "227/227 [==============================] - 1s 4ms/step - loss: 0.2877 - mean_absolute_error: 0.3140 - val_loss: 259.4016 - val_mean_absolute_error: 9.3613\n",
      "Epoch 40/100\n",
      "227/227 [==============================] - 1s 4ms/step - loss: 0.3277 - mean_absolute_error: 0.3518 - val_loss: 270.3253 - val_mean_absolute_error: 9.6923\n",
      "Epoch 41/100\n",
      "227/227 [==============================] - 1s 4ms/step - loss: 0.3171 - mean_absolute_error: 0.3328 - val_loss: 290.7416 - val_mean_absolute_error: 10.5334\n",
      "Epoch 42/100\n",
      "227/227 [==============================] - 1s 4ms/step - loss: 0.2873 - mean_absolute_error: 0.3128 - val_loss: 265.1369 - val_mean_absolute_error: 9.5227\n",
      "Epoch 43/100\n",
      "227/227 [==============================] - 1s 4ms/step - loss: 0.2879 - mean_absolute_error: 0.3145 - val_loss: 267.3205 - val_mean_absolute_error: 9.9736\n",
      "Epoch 44/100\n",
      "227/227 [==============================] - 1s 4ms/step - loss: 0.2936 - mean_absolute_error: 0.3154 - val_loss: 262.5297 - val_mean_absolute_error: 9.5075\n",
      "Epoch 45/100\n",
      "227/227 [==============================] - 1s 4ms/step - loss: 0.3008 - mean_absolute_error: 0.3225 - val_loss: 258.6569 - val_mean_absolute_error: 9.3660\n",
      "Epoch 46/100\n",
      "227/227 [==============================] - 1s 4ms/step - loss: 0.2961 - mean_absolute_error: 0.3174 - val_loss: 262.9452 - val_mean_absolute_error: 9.4415\n",
      "Epoch 47/100\n",
      "227/227 [==============================] - 1s 4ms/step - loss: 0.3093 - mean_absolute_error: 0.3265 - val_loss: 272.9147 - val_mean_absolute_error: 9.9514\n",
      "Epoch 48/100\n",
      "227/227 [==============================] - 1s 5ms/step - loss: 0.3066 - mean_absolute_error: 0.3244 - val_loss: 254.2693 - val_mean_absolute_error: 9.3817\n",
      "Epoch 49/100\n",
      "227/227 [==============================] - 1s 4ms/step - loss: 0.2953 - mean_absolute_error: 0.3211 - val_loss: 258.0201 - val_mean_absolute_error: 9.3818\n"
     ]
    },
    {
     "name": "stdout",
     "output_type": "stream",
     "text": [
      "Epoch 50/100\n",
      "227/227 [==============================] - 1s 4ms/step - loss: 0.2913 - mean_absolute_error: 0.3176 - val_loss: 276.4307 - val_mean_absolute_error: 10.2989\n",
      "Epoch 51/100\n",
      "227/227 [==============================] - 1s 3ms/step - loss: 0.2978 - mean_absolute_error: 0.3201 - val_loss: 256.2211 - val_mean_absolute_error: 9.2266\n",
      "Epoch 52/100\n",
      "227/227 [==============================] - 1s 3ms/step - loss: 0.3014 - mean_absolute_error: 0.3223 - val_loss: 261.7393 - val_mean_absolute_error: 9.5853\n",
      "Epoch 53/100\n",
      "227/227 [==============================] - 1s 4ms/step - loss: 0.2839 - mean_absolute_error: 0.3041 - val_loss: 245.1744 - val_mean_absolute_error: 9.0471\n",
      "Epoch 54/100\n",
      "227/227 [==============================] - 1s 3ms/step - loss: 0.2785 - mean_absolute_error: 0.3092 - val_loss: 240.7563 - val_mean_absolute_error: 8.9732\n",
      "Epoch 55/100\n",
      "227/227 [==============================] - 1s 4ms/step - loss: 0.2961 - mean_absolute_error: 0.3236 - val_loss: 245.4789 - val_mean_absolute_error: 9.0927\n",
      "Epoch 56/100\n",
      "227/227 [==============================] - 1s 3ms/step - loss: 0.2988 - mean_absolute_error: 0.3183 - val_loss: 240.9822 - val_mean_absolute_error: 8.9504\n",
      "Epoch 57/100\n",
      "227/227 [==============================] - 1s 3ms/step - loss: 0.2998 - mean_absolute_error: 0.3194 - val_loss: 253.3640 - val_mean_absolute_error: 9.2695\n",
      "Epoch 58/100\n",
      "227/227 [==============================] - 1s 3ms/step - loss: 0.3185 - mean_absolute_error: 0.3366 - val_loss: 254.7278 - val_mean_absolute_error: 9.2327\n",
      "Epoch 59/100\n",
      "227/227 [==============================] - 1s 3ms/step - loss: 0.2813 - mean_absolute_error: 0.3081 - val_loss: 266.7086 - val_mean_absolute_error: 9.7259\n",
      "Epoch 60/100\n",
      "227/227 [==============================] - 1s 3ms/step - loss: 0.2860 - mean_absolute_error: 0.3109 - val_loss: 252.8011 - val_mean_absolute_error: 9.2682\n",
      "Epoch 61/100\n",
      "227/227 [==============================] - 1s 4ms/step - loss: 0.2849 - mean_absolute_error: 0.3075 - val_loss: 259.6539 - val_mean_absolute_error: 9.6709\n",
      "Epoch 62/100\n",
      "227/227 [==============================] - 1s 4ms/step - loss: 0.2792 - mean_absolute_error: 0.3039 - val_loss: 246.2980 - val_mean_absolute_error: 9.4100\n",
      "Epoch 63/100\n",
      "227/227 [==============================] - 1s 4ms/step - loss: 0.3033 - mean_absolute_error: 0.3239 - val_loss: 238.4328 - val_mean_absolute_error: 8.8810\n",
      "Epoch 64/100\n",
      "227/227 [==============================] - 1s 4ms/step - loss: 0.3015 - mean_absolute_error: 0.3194 - val_loss: 246.0542 - val_mean_absolute_error: 8.9766\n",
      "Epoch 65/100\n",
      "227/227 [==============================] - 1s 4ms/step - loss: 0.2979 - mean_absolute_error: 0.3189 - val_loss: 249.0421 - val_mean_absolute_error: 9.2679\n",
      "Epoch 66/100\n",
      "227/227 [==============================] - 1s 3ms/step - loss: 0.2946 - mean_absolute_error: 0.3151 - val_loss: 242.5211 - val_mean_absolute_error: 8.9065\n",
      "Epoch 67/100\n",
      "227/227 [==============================] - 1s 4ms/step - loss: 0.2837 - mean_absolute_error: 0.3120 - val_loss: 248.4033 - val_mean_absolute_error: 9.0633\n",
      "Epoch 68/100\n",
      "227/227 [==============================] - 1s 4ms/step - loss: 0.2887 - mean_absolute_error: 0.3164 - val_loss: 250.0679 - val_mean_absolute_error: 9.2891\n",
      "Epoch 69/100\n",
      "227/227 [==============================] - 1s 3ms/step - loss: 0.2974 - mean_absolute_error: 0.3172 - val_loss: 243.4787 - val_mean_absolute_error: 9.0574\n",
      "Epoch 70/100\n",
      "227/227 [==============================] - 1s 4ms/step - loss: 0.2847 - mean_absolute_error: 0.3111 - val_loss: 242.2279 - val_mean_absolute_error: 9.0069\n",
      "Epoch 71/100\n",
      "227/227 [==============================] - 1s 4ms/step - loss: 0.2929 - mean_absolute_error: 0.3149 - val_loss: 243.5725 - val_mean_absolute_error: 8.9201\n",
      "Epoch 72/100\n",
      "227/227 [==============================] - 1s 5ms/step - loss: 0.2799 - mean_absolute_error: 0.3062 - val_loss: 249.2050 - val_mean_absolute_error: 9.1404\n",
      "Epoch 73/100\n",
      "227/227 [==============================] - 1s 3ms/step - loss: 0.3053 - mean_absolute_error: 0.3215 - val_loss: 262.8421 - val_mean_absolute_error: 9.6097\n",
      "Epoch 74/100\n",
      "227/227 [==============================] - 1s 4ms/step - loss: 0.2818 - mean_absolute_error: 0.3068 - val_loss: 255.3859 - val_mean_absolute_error: 9.6138\n",
      "Epoch 75/100\n",
      "227/227 [==============================] - 1s 4ms/step - loss: 0.3112 - mean_absolute_error: 0.3279 - val_loss: 245.7458 - val_mean_absolute_error: 9.0295\n",
      "Epoch 76/100\n",
      "227/227 [==============================] - 1s 4ms/step - loss: 0.2966 - mean_absolute_error: 0.3193 - val_loss: 263.3715 - val_mean_absolute_error: 9.5887\n",
      "Epoch 77/100\n",
      "227/227 [==============================] - 1s 4ms/step - loss: 0.2966 - mean_absolute_error: 0.3161 - val_loss: 237.4505 - val_mean_absolute_error: 8.8109\n",
      "Epoch 78/100\n",
      "227/227 [==============================] - 1s 4ms/step - loss: 0.2864 - mean_absolute_error: 0.3119 - val_loss: 243.4895 - val_mean_absolute_error: 9.0479\n",
      "Epoch 79/100\n",
      "227/227 [==============================] - 1s 4ms/step - loss: 0.2809 - mean_absolute_error: 0.3051 - val_loss: 238.6540 - val_mean_absolute_error: 8.9753\n",
      "Epoch 80/100\n",
      "227/227 [==============================] - 1s 4ms/step - loss: 0.2787 - mean_absolute_error: 0.3035 - val_loss: 232.8123 - val_mean_absolute_error: 8.6332\n",
      "Epoch 81/100\n",
      "227/227 [==============================] - 1s 3ms/step - loss: 0.2837 - mean_absolute_error: 0.3049 - val_loss: 260.4601 - val_mean_absolute_error: 9.7949\n",
      "Epoch 82/100\n",
      "227/227 [==============================] - 1s 4ms/step - loss: 0.3034 - mean_absolute_error: 0.3227 - val_loss: 237.9706 - val_mean_absolute_error: 8.8789\n",
      "Epoch 83/100\n",
      "227/227 [==============================] - 1s 6ms/step - loss: 0.2960 - mean_absolute_error: 0.3152 - val_loss: 237.7259 - val_mean_absolute_error: 8.8886\n",
      "Epoch 84/100\n",
      "227/227 [==============================] - 1s 6ms/step - loss: 0.2989 - mean_absolute_error: 0.3164 - val_loss: 244.5859 - val_mean_absolute_error: 9.2215\n",
      "Epoch 85/100\n",
      "227/227 [==============================] - 1s 4ms/step - loss: 0.2830 - mean_absolute_error: 0.3074 - val_loss: 240.3521 - val_mean_absolute_error: 8.9581\n",
      "Epoch 86/100\n",
      "227/227 [==============================] - 1s 5ms/step - loss: 0.2706 - mean_absolute_error: 0.2963 - val_loss: 244.8048 - val_mean_absolute_error: 9.0509\n",
      "Epoch 87/100\n",
      "227/227 [==============================] - 1s 5ms/step - loss: 0.2686 - mean_absolute_error: 0.2966 - val_loss: 251.4134 - val_mean_absolute_error: 9.3415\n",
      "Epoch 88/100\n",
      "227/227 [==============================] - 1s 6ms/step - loss: 0.2962 - mean_absolute_error: 0.3182 - val_loss: 241.2010 - val_mean_absolute_error: 8.9927\n",
      "Epoch 89/100\n",
      "227/227 [==============================] - 1s 5ms/step - loss: 0.2930 - mean_absolute_error: 0.3145 - val_loss: 235.3435 - val_mean_absolute_error: 8.9066\n",
      "Epoch 90/100\n",
      "227/227 [==============================] - 1s 4ms/step - loss: 0.3076 - mean_absolute_error: 0.3261 - val_loss: 237.8574 - val_mean_absolute_error: 8.9418\n",
      "Epoch 91/100\n",
      "227/227 [==============================] - 1s 4ms/step - loss: 0.3057 - mean_absolute_error: 0.3302 - val_loss: 229.6815 - val_mean_absolute_error: 8.6244\n",
      "Epoch 92/100\n",
      "227/227 [==============================] - 1s 4ms/step - loss: 0.2969 - mean_absolute_error: 0.3200 - val_loss: 255.2663 - val_mean_absolute_error: 9.6347\n",
      "Epoch 93/100\n",
      "227/227 [==============================] - 1s 4ms/step - loss: 0.3057 - mean_absolute_error: 0.3268 - val_loss: 235.8831 - val_mean_absolute_error: 8.8104\n",
      "Epoch 94/100\n",
      "227/227 [==============================] - 1s 4ms/step - loss: 0.2878 - mean_absolute_error: 0.3094 - val_loss: 234.4842 - val_mean_absolute_error: 8.7820\n",
      "Epoch 95/100\n",
      "227/227 [==============================] - 1s 4ms/step - loss: 0.2967 - mean_absolute_error: 0.3151 - val_loss: 234.6644 - val_mean_absolute_error: 8.7324\n",
      "Epoch 96/100\n",
      "227/227 [==============================] - 1s 4ms/step - loss: 0.2861 - mean_absolute_error: 0.3093 - val_loss: 234.9991 - val_mean_absolute_error: 8.8638\n",
      "Epoch 97/100\n",
      "227/227 [==============================] - 1s 4ms/step - loss: 0.2832 - mean_absolute_error: 0.3047 - val_loss: 243.5419 - val_mean_absolute_error: 9.1692\n",
      "Epoch 98/100\n",
      "227/227 [==============================] - 1s 5ms/step - loss: 0.2893 - mean_absolute_error: 0.3114 - val_loss: 242.3705 - val_mean_absolute_error: 9.0908\n"
     ]
    },
    {
     "name": "stdout",
     "output_type": "stream",
     "text": [
      "Epoch 99/100\n",
      "227/227 [==============================] - 1s 6ms/step - loss: 0.2920 - mean_absolute_error: 0.3148 - val_loss: 247.6758 - val_mean_absolute_error: 9.3211\n",
      "Epoch 100/100\n",
      "227/227 [==============================] - 1s 4ms/step - loss: 0.3014 - mean_absolute_error: 0.3201 - val_loss: 225.5220 - val_mean_absolute_error: 8.4912\n"
     ]
    },
    {
     "data": {
      "text/plain": [
       "<keras.callbacks.History at 0x1f3dd86bb80>"
      ]
     },
     "execution_count": 49,
     "metadata": {},
     "output_type": "execute_result"
    }
   ],
   "source": [
    "from tensorflow.keras.models import Sequential\n",
    "from tensorflow.keras.optimizers import Adam\n",
    "from tensorflow.keras import layers\n",
    "\n",
    "model = Sequential([layers.Input((3, 1)),\n",
    "                    layers.LSTM(64),\n",
    "                    layers.Dense(32, activation = 'relu'),\n",
    "                    layers.Dense(32, activation = 'relu'),\n",
    "                    layers.Dense(1)])\n",
    "\n",
    "model.compile(loss = 'mse',\n",
    "              optimizer = Adam(learning_rate = 0.001),\n",
    "              metrics = ['mean_absolute_error'])\n",
    "\n",
    "model.fit(X_train, y_train, validation_data = (X_val, y_val), epochs = 100)"
   ]
  },
  {
   "cell_type": "code",
   "execution_count": 50,
   "id": "d83c33e8",
   "metadata": {},
   "outputs": [
    {
     "name": "stdout",
     "output_type": "stream",
     "text": [
      "227/227 [==============================] - 1s 2ms/step\n"
     ]
    },
    {
     "data": {
      "text/plain": [
       "<matplotlib.legend.Legend at 0x1f3dd5d5e20>"
      ]
     },
     "execution_count": 50,
     "metadata": {},
     "output_type": "execute_result"
    },
    {
     "data": {
      "image/png": "[encoded data removed]",
      "text/plain": [
       "<Figure size 432x288 with 1 Axes>"
      ]
     },
     "metadata": {
      "needs_background": "light"
     },
     "output_type": "display_data"
    }
   ],
   "source": [
    "train_predictions = model.predict(X_train).flatten()\n",
    "\n",
    "plt.plot(dates_train, train_predictions)\n",
    "plt.plot(dates_train, y_train)\n",
    "plt.legend(['Training Predictions', 'Training Observations'])"
   ]
  },
  {
   "cell_type": "code",
   "execution_count": 51,
   "id": "a5d43289",
   "metadata": {},
   "outputs": [
    {
     "name": "stdout",
     "output_type": "stream",
     "text": [
      "29/29 [==============================] - 0s 2ms/step\n"
     ]
    },
    {
     "data": {
      "text/plain": [
       "<matplotlib.legend.Legend at 0x1f3e4f40c40>"
      ]
     },
     "execution_count": 51,
     "metadata": {},
     "output_type": "execute_result"
    },
    {
     "data": {
      "image/png": "[encoded data removed]",
      "text/plain": [
       "<Figure size 432x288 with 1 Axes>"
      ]
     },
     "metadata": {
      "needs_background": "light"
     },
     "output_type": "display_data"
    }
   ],
   "source": [
    "val_predictions = model.predict(X_val).flatten()\n",
    "\n",
    "plt.plot(dates_val, val_predictions)\n",
    "plt.plot(dates_val, y_val)\n",
    "plt.legend(['Validation Predictions', 'Validation Observations'])"
   ]
  },
  {
   "cell_type": "code",
   "execution_count": 52,
   "id": "b2b7dd28",
   "metadata": {},
   "outputs": [
    {
     "name": "stdout",
     "output_type": "stream",
     "text": [
      "29/29 [==============================] - 0s 2ms/step\n"
     ]
    },
    {
     "data": {
      "text/plain": [
       "<matplotlib.legend.Legend at 0x1f3e4fe2f70>"
      ]
     },
     "execution_count": 52,
     "metadata": {},
     "output_type": "execute_result"
    },
    {
     "data": {
      "image/png": "[encoded data removed]",
      "text/plain": [
       "<Figure size 432x288 with 1 Axes>"
      ]
     },
     "metadata": {
      "needs_background": "light"
     },
     "output_type": "display_data"
    }
   ],
   "source": [
    "test_predictions = model.predict(X_test).flatten()\n",
    "\n",
    "plt.plot(dates_test, test_predictions)\n",
    "plt.plot(dates_test, y_test)\n",
    "plt.legend(['Testing Predictions', 'Testing Observations'])"
   ]
  },
  {
   "cell_type": "code",
   "execution_count": 53,
   "id": "b51bcc8f",
   "metadata": {
    "scrolled": true
   },
   "outputs": [
    {
     "data": {
      "text/plain": [
       "<matplotlib.legend.Legend at 0x1f3e4f33730>"
      ]
     },
     "execution_count": 53,
     "metadata": {},
     "output_type": "execute_result"
    },
    {
     "data": {
      "image/png": "[encoded data removed]",
      "text/plain": [
       "<Figure size 432x288 with 1 Axes>"
      ]
     },
     "metadata": {
      "needs_background": "light"
     },
     "output_type": "display_data"
    }
   ],
   "source": [
    "plt.plot(dates_train, train_predictions)\n",
    "plt.plot(dates_train, y_train)\n",
    "plt.plot(dates_val, val_predictions)\n",
    "plt.plot(dates_val, y_val)\n",
    "plt.plot(dates_test, test_predictions)\n",
    "plt.plot(dates_test, y_test)\n",
    "plt.legend(['Training Predictions', \n",
    "            'Training Observations',\n",
    "            'Validation Predictions', \n",
    "            'Validation Observations',\n",
    "            'Testing Predictions', \n",
    "            'Testing Observations'])"
   ]
  }
 ],
 "metadata": {
  "kernelspec": {
   "display_name": "Python 3 (ipykernel)",
   "language": "python",
   "name": "python3"
  },
  "language_info": {
   "codemirror_mode": {
    "name": "ipython",
    "version": 3
   },
   "file_extension": ".py",
   "mimetype": "text/x-python",
   "name": "python",
   "nbconvert_exporter": "python",
   "pygments_lexer": "ipython3",
   "version": "3.9.7"
  }
 },
 "nbformat": 4,
 "nbformat_minor": 5
}
